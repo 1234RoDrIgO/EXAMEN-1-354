{
  "nbformat": 4,
  "nbformat_minor": 0,
  "metadata": {
    "colab": {
      "provenance": []
    },
    "kernelspec": {
      "name": "python3",
      "display_name": "Python 3"
    },
    "language_info": {
      "name": "python"
    }
  },
  "cells": [
    {
      "cell_type": "code",
      "execution_count": 1,
      "metadata": {
        "colab": {
          "base_uri": "https://localhost:8080/"
        },
        "id": "Ib6_3ws6WFa-",
        "outputId": "e7e1d5c1-ed76-4aca-c8bd-174cd2954d09"
      },
      "outputs": [
        {
          "output_type": "stream",
          "name": "stdout",
          "text": [
            "Mounted at /content/drive\n"
          ]
        }
      ],
      "source": [
        "from google.colab import drive\n",
        "drive.mount(\"/content/drive\")"
      ]
    },
    {
      "cell_type": "code",
      "source": [
        "import os\n",
        "os.chdir(\"/content/drive/MyDrive/INF-354\")\n",
        "import pandas as pd\n",
        "import numpy as np\n",
        "datos = pd.read_csv(\"vinosDataset.csv\")\n",
        "print(datos)"
      ],
      "metadata": {
        "colab": {
          "base_uri": "https://localhost:8080/"
        },
        "id": "9TEOkhNBWWck",
        "outputId": "85e47be3-c274-458a-d5a0-3093270fcce7"
      },
      "execution_count": 2,
      "outputs": [
        {
          "output_type": "stream",
          "name": "stdout",
          "text": [
            "      fixed acidity  volatile acidity  citric acid  residual sugar  chlorides  \\\n",
            "0               7.4             0.700         0.00             1.9      0.076   \n",
            "1               7.8             0.880         0.00             2.6      0.098   \n",
            "2               7.8             0.760         0.04             2.3      0.092   \n",
            "3              11.2             0.280         0.56             1.9      0.075   \n",
            "4               7.4             0.700         0.00             1.9      0.076   \n",
            "...             ...               ...          ...             ...        ...   \n",
            "1594            6.2             0.600         0.08             2.0      0.090   \n",
            "1595            5.9             0.550         0.10             2.2      0.062   \n",
            "1596            6.3             0.510         0.13             2.3      0.076   \n",
            "1597            5.9             0.645         0.12             2.0      0.075   \n",
            "1598            6.0             0.310         0.47             3.6      0.067   \n",
            "\n",
            "      free sulfur dioxide  total sulfur dioxide  density    pH  sulphates  \\\n",
            "0                    11.0                  34.0  0.99780  3.51       0.56   \n",
            "1                    25.0                  67.0  0.99680  3.20       0.68   \n",
            "2                    15.0                  54.0  0.99700  3.26       0.65   \n",
            "3                    17.0                  60.0  0.99800  3.16       0.58   \n",
            "4                    11.0                  34.0  0.99780  3.51       0.56   \n",
            "...                   ...                   ...      ...   ...        ...   \n",
            "1594                 32.0                  44.0  0.99490  3.45       0.58   \n",
            "1595                 39.0                  51.0  0.99512  3.52       0.76   \n",
            "1596                 29.0                  40.0  0.99574  3.42       0.75   \n",
            "1597                 32.0                  44.0  0.99547  3.57       0.71   \n",
            "1598                 18.0                  42.0  0.99549  3.39       0.66   \n",
            "\n",
            "      alcohol  quality  \n",
            "0         9.4        5  \n",
            "1         9.8        5  \n",
            "2         9.8        5  \n",
            "3         9.8        6  \n",
            "4         9.4        5  \n",
            "...       ...      ...  \n",
            "1594     10.5        5  \n",
            "1595     11.2        6  \n",
            "1596     11.0        6  \n",
            "1597     10.2        5  \n",
            "1598     11.0        6  \n",
            "\n",
            "[1599 rows x 12 columns]\n"
          ]
        }
      ]
    },
    {
      "cell_type": "markdown",
      "source": [
        "**3.**Del dataset del punto 1 realice en PYTHON, cinco algoritmos de preprocesamiento; dos de ellos deben ser onehotencoder y otro escalado. Explique por cada uno la razón de su uso.\n",
        "\n"
      ],
      "metadata": {
        "id": "ET10kUeEWYoq"
      }
    },
    {
      "cell_type": "markdown",
      "source": [
        "1. **Imputación de valores faltantes:** Los datos reales a menudo tienen valores faltantes, lo que puede afectar el rendimiento de los algoritmos de aprendizaje automático.\n",
        "2. **Escalado de características:** Muchos algoritmos de aprendizaje automático funcionan mejor cuando las características tienen la misma escala. El escalado de características asegura que todas las características tengan una media de cero y una desviación estándar de uno, lo que facilita la convergencia del modelo y evita que las características con magnitudes más grandes dominen las características con magnitudes más pequeñas.\n",
        "3. **Codificación one-hot (OneHotEncoder):** Los algoritmos de aprendizaje automático generalmente requieren características numéricas, y las características categóricas necesitan ser convertidas a una forma numérica. La codificación one-hot es útil para representar características categóricas como vectores binarios, lo que permite que el modelo maneje estas características de manera efectiva.\n",
        "4. **Codificación de etiquetas (LabelEncoder):** A diferencia de la codificación one-hot, la codificación de etiquetas asigna un número entero a cada categoría única en una columna categórica.\n",
        "5. **Normalización de datos:** La normalización de datos escala los valores de las características en un rango específico, generalmente entre 0 y 1."
      ],
      "metadata": {
        "id": "pe71NGHkWcx5"
      }
    },
    {
      "cell_type": "code",
      "source": [
        "import pandas as pd\n",
        "from sklearn.impute import SimpleImputer\n",
        "from sklearn.preprocessing import StandardScaler, OneHotEncoder, LabelEncoder, MinMaxScaler\n",
        "\n",
        "# Leer el archivo CSV\n",
        "datos = pd.read_csv('vinosDataset.csv')\n",
        "\n",
        "# Separar columnas numéricas y categóricas\n",
        "columnas_numericas = datos.select_dtypes(include=['int', 'float'])\n",
        "columnas_categoricas = datos.select_dtypes(include=['object'])\n",
        "\n",
        "# 1. Imputación de valores faltantes\n",
        "imputador = SimpleImputer(strategy='mean')\n",
        "columnas_numericas_imputadas = imputador.fit_transform(columnas_numericas)\n",
        "print(\"Datos numéricos imputados:\")\n",
        "print(pd.DataFrame(columnas_numericas_imputadas, columns=columnas_numericas.columns))\n",
        "\n",
        "# 2. Escalado de características\n",
        "escalador = StandardScaler()\n",
        "columnas_numericas_escaladas = escalador.fit_transform(columnas_numericas_imputadas)\n",
        "print(\"\\nDatos numéricos escalados:\")\n",
        "print(pd.DataFrame(columnas_numericas_escaladas, columns=columnas_numericas.columns))\n",
        "\n",
        "# 3. Codificación one-hot\n",
        "codificador_onehot = OneHotEncoder()\n",
        "columnas_categoricas_codificadas = codificador_onehot.fit_transform(columnas_categoricas)\n",
        "print(\"\\nDatos categóricos codificados (one-hot):\")\n",
        "print(pd.DataFrame(columnas_categoricas_codificadas.toarray(), columns=codificador_onehot.get_feature_names_out(columnas_categoricas.columns)))\n",
        "\n",
        "# 4. Codificación de etiquetas\n",
        "codificador_etiquetas = LabelEncoder()\n",
        "columnas_categoricas_codificadas = columnas_categoricas.apply(codificador_etiquetas.fit_transform)\n",
        "print(\"\\nDatos categóricos codificados (etiquetas):\")\n",
        "print(columnas_categoricas_codificadas)\n",
        "\n",
        "# 5. Normalización de datos\n",
        "normalizador = MinMaxScaler()\n",
        "columnas_numericas_normalizadas = normalizador.fit_transform(columnas_numericas_imputadas)\n",
        "print(\"\\nDatos numéricos normalizados:\")\n",
        "print(pd.DataFrame(columnas_numericas_normalizadas, columns=columnas_numericas.columns))\n",
        "\n"
      ],
      "metadata": {
        "colab": {
          "base_uri": "https://localhost:8080/"
        },
        "id": "xkCo_P2JWbuz",
        "outputId": "a45cd062-8d4e-4dbb-c005-878f63893a20"
      },
      "execution_count": 3,
      "outputs": [
        {
          "output_type": "stream",
          "name": "stdout",
          "text": [
            "Datos numéricos imputados:\n",
            "      fixed acidity  volatile acidity  citric acid  residual sugar  chlorides  \\\n",
            "0               7.4             0.700         0.00             1.9      0.076   \n",
            "1               7.8             0.880         0.00             2.6      0.098   \n",
            "2               7.8             0.760         0.04             2.3      0.092   \n",
            "3              11.2             0.280         0.56             1.9      0.075   \n",
            "4               7.4             0.700         0.00             1.9      0.076   \n",
            "...             ...               ...          ...             ...        ...   \n",
            "1594            6.2             0.600         0.08             2.0      0.090   \n",
            "1595            5.9             0.550         0.10             2.2      0.062   \n",
            "1596            6.3             0.510         0.13             2.3      0.076   \n",
            "1597            5.9             0.645         0.12             2.0      0.075   \n",
            "1598            6.0             0.310         0.47             3.6      0.067   \n",
            "\n",
            "      free sulfur dioxide  total sulfur dioxide  density    pH  sulphates  \\\n",
            "0                    11.0                  34.0  0.99780  3.51       0.56   \n",
            "1                    25.0                  67.0  0.99680  3.20       0.68   \n",
            "2                    15.0                  54.0  0.99700  3.26       0.65   \n",
            "3                    17.0                  60.0  0.99800  3.16       0.58   \n",
            "4                    11.0                  34.0  0.99780  3.51       0.56   \n",
            "...                   ...                   ...      ...   ...        ...   \n",
            "1594                 32.0                  44.0  0.99490  3.45       0.58   \n",
            "1595                 39.0                  51.0  0.99512  3.52       0.76   \n",
            "1596                 29.0                  40.0  0.99574  3.42       0.75   \n",
            "1597                 32.0                  44.0  0.99547  3.57       0.71   \n",
            "1598                 18.0                  42.0  0.99549  3.39       0.66   \n",
            "\n",
            "      alcohol  quality  \n",
            "0         9.4      5.0  \n",
            "1         9.8      5.0  \n",
            "2         9.8      5.0  \n",
            "3         9.8      6.0  \n",
            "4         9.4      5.0  \n",
            "...       ...      ...  \n",
            "1594     10.5      5.0  \n",
            "1595     11.2      6.0  \n",
            "1596     11.0      6.0  \n",
            "1597     10.2      5.0  \n",
            "1598     11.0      6.0  \n",
            "\n",
            "[1599 rows x 12 columns]\n",
            "\n",
            "Datos numéricos escalados:\n",
            "      fixed acidity  volatile acidity  citric acid  residual sugar  chlorides  \\\n",
            "0         -0.528360          0.961877    -1.391472       -0.453218  -0.243707   \n",
            "1         -0.298547          1.967442    -1.391472        0.043416   0.223875   \n",
            "2         -0.298547          1.297065    -1.186070       -0.169427   0.096353   \n",
            "3          1.654856         -1.384443     1.484154       -0.453218  -0.264960   \n",
            "4         -0.528360          0.961877    -1.391472       -0.453218  -0.243707   \n",
            "...             ...               ...          ...             ...        ...   \n",
            "1594      -1.217796          0.403229    -0.980669       -0.382271   0.053845   \n",
            "1595      -1.390155          0.123905    -0.877968       -0.240375  -0.541259   \n",
            "1596      -1.160343         -0.099554    -0.723916       -0.169427  -0.243707   \n",
            "1597      -1.390155          0.654620    -0.775267       -0.382271  -0.264960   \n",
            "1598      -1.332702         -1.216849     1.021999        0.752894  -0.434990   \n",
            "\n",
            "      free sulfur dioxide  total sulfur dioxide   density        pH  \\\n",
            "0               -0.466193             -0.379133  0.558274  1.288643   \n",
            "1                0.872638              0.624363  0.028261 -0.719933   \n",
            "2               -0.083669              0.229047  0.134264 -0.331177   \n",
            "3                0.107592              0.411500  0.664277 -0.979104   \n",
            "4               -0.466193             -0.379133  0.558274  1.288643   \n",
            "...                   ...                   ...       ...       ...   \n",
            "1594             1.542054             -0.075043 -0.978765  0.899886   \n",
            "1595             2.211469              0.137820 -0.862162  1.353436   \n",
            "1596             1.255161             -0.196679 -0.533554  0.705508   \n",
            "1597             1.542054             -0.075043 -0.676657  1.677400   \n",
            "1598             0.203223             -0.135861 -0.666057  0.511130   \n",
            "\n",
            "      sulphates   alcohol   quality  \n",
            "0     -0.579207 -0.960246 -0.787823  \n",
            "1      0.128950 -0.584777 -0.787823  \n",
            "2     -0.048089 -0.584777 -0.787823  \n",
            "3     -0.461180 -0.584777  0.450848  \n",
            "4     -0.579207 -0.960246 -0.787823  \n",
            "...         ...       ...       ...  \n",
            "1594  -0.461180  0.072294 -0.787823  \n",
            "1595   0.601055  0.729364  0.450848  \n",
            "1596   0.542042  0.541630  0.450848  \n",
            "1597   0.305990 -0.209308 -0.787823  \n",
            "1598   0.010924  0.541630  0.450848  \n",
            "\n",
            "[1599 rows x 12 columns]\n",
            "\n",
            "Datos categóricos codificados (one-hot):\n",
            "Empty DataFrame\n",
            "Columns: []\n",
            "Index: [0, 1, 2, 3, 4, 5, 6, 7, 8, 9, 10, 11, 12, 13, 14, 15, 16, 17, 18, 19, 20, 21, 22, 23, 24, 25, 26, 27, 28, 29, 30, 31, 32, 33, 34, 35, 36, 37, 38, 39, 40, 41, 42, 43, 44, 45, 46, 47, 48, 49, 50, 51, 52, 53, 54, 55, 56, 57, 58, 59, 60, 61, 62, 63, 64, 65, 66, 67, 68, 69, 70, 71, 72, 73, 74, 75, 76, 77, 78, 79, 80, 81, 82, 83, 84, 85, 86, 87, 88, 89, 90, 91, 92, 93, 94, 95, 96, 97, 98, 99, ...]\n",
            "\n",
            "[1599 rows x 0 columns]\n",
            "\n",
            "Datos categóricos codificados (etiquetas):\n",
            "Series([], dtype: float64)\n",
            "\n",
            "Datos numéricos normalizados:\n",
            "      fixed acidity  volatile acidity  citric acid  residual sugar  chlorides  \\\n",
            "0          0.247788          0.397260         0.00        0.068493   0.106845   \n",
            "1          0.283186          0.520548         0.00        0.116438   0.143573   \n",
            "2          0.283186          0.438356         0.04        0.095890   0.133556   \n",
            "3          0.584071          0.109589         0.56        0.068493   0.105175   \n",
            "4          0.247788          0.397260         0.00        0.068493   0.106845   \n",
            "...             ...               ...          ...             ...        ...   \n",
            "1594       0.141593          0.328767         0.08        0.075342   0.130217   \n",
            "1595       0.115044          0.294521         0.10        0.089041   0.083472   \n",
            "1596       0.150442          0.267123         0.13        0.095890   0.106845   \n",
            "1597       0.115044          0.359589         0.12        0.075342   0.105175   \n",
            "1598       0.123894          0.130137         0.47        0.184932   0.091820   \n",
            "\n",
            "      free sulfur dioxide  total sulfur dioxide   density        pH  \\\n",
            "0                0.140845              0.098940  0.567548  0.606299   \n",
            "1                0.338028              0.215548  0.494126  0.362205   \n",
            "2                0.197183              0.169611  0.508811  0.409449   \n",
            "3                0.225352              0.190813  0.582232  0.330709   \n",
            "4                0.140845              0.098940  0.567548  0.606299   \n",
            "...                   ...                   ...       ...       ...   \n",
            "1594             0.436620              0.134276  0.354626  0.559055   \n",
            "1595             0.535211              0.159011  0.370778  0.614173   \n",
            "1596             0.394366              0.120141  0.416300  0.535433   \n",
            "1597             0.436620              0.134276  0.396476  0.653543   \n",
            "1598             0.239437              0.127208  0.397944  0.511811   \n",
            "\n",
            "      sulphates   alcohol  quality  \n",
            "0      0.137725  0.153846      0.4  \n",
            "1      0.209581  0.215385      0.4  \n",
            "2      0.191617  0.215385      0.4  \n",
            "3      0.149701  0.215385      0.6  \n",
            "4      0.137725  0.153846      0.4  \n",
            "...         ...       ...      ...  \n",
            "1594   0.149701  0.323077      0.4  \n",
            "1595   0.257485  0.430769      0.6  \n",
            "1596   0.251497  0.400000      0.6  \n",
            "1597   0.227545  0.276923      0.4  \n",
            "1598   0.197605  0.400000      0.6  \n",
            "\n",
            "[1599 rows x 12 columns]\n"
          ]
        }
      ]
    }
  ]
}